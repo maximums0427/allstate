{
 "metadata": {
  "name": "",
  "signature": "sha256:93af73e381f524b5a3d239dcbad76a6baa004081c2f18a001187a066655ad36d"
 },
 "nbformat": 3,
 "nbformat_minor": 0,
 "worksheets": [
  {
   "cells": [
    {
     "cell_type": "code",
     "collapsed": false,
     "input": [
      "import numpy as np\n",
      "import pandas as pd"
     ],
     "language": "python",
     "metadata": {},
     "outputs": [],
     "prompt_number": 1
    },
    {
     "cell_type": "code",
     "collapsed": false,
     "input": [
      "from sklearn.preprocessing import StandardScaler\n",
      "from scipy.stats import skew, boxcox\n",
      "\n",
      "DATA_TRAIN_PATH = 'train.csv'\n",
      "DATA_TEST_PATH = 'test.csv'\n",
      "\n",
      "def scale_data(X, scaler=None):\n",
      "    if not scaler:\n",
      "        scaler = StandardScaler()\n",
      "        scaler.fit(X)\n",
      "    X = scaler.transform(X)\n",
      "    return X, scaler\n",
      "\n",
      "def load_data(path_train=DATA_TRAIN_PATH, path_test=DATA_TEST_PATH):\n",
      "    train_loader = pd.read_csv(path_train, dtype={'id': np.int32})\n",
      "    train = train_loader.drop(['id', 'loss'], axis=1)\n",
      "    test_loader = pd.read_csv(path_test, dtype={'id': np.int32})\n",
      "    test = test_loader.drop(['id'], axis=1)\n",
      "    ntrain = train.shape[0]\n",
      "    ntest = test.shape[0]\n",
      "    train_test = pd.concat((train, test)).reset_index(drop=True)\n",
      "    numeric_feats = train_test.dtypes[train_test.dtypes != \"object\"].index\n",
      "\n",
      "    # compute skew and do Box-Cox transformation\n",
      "    skewed_feats = train[numeric_feats].apply(lambda x: skew(x.dropna()))\n",
      "    print(\"\\nSkew in numeric features:\")\n",
      "    print(skewed_feats)\n",
      "    # transform features with skew > 0.25 (this can be varied to find optimal value)\n",
      "    skewed_feats = skewed_feats[skewed_feats > 0.25]\n",
      "    skewed_feats = skewed_feats.index\n",
      "    for feats in skewed_feats:\n",
      "        train_test[feats] = train_test[feats] + 1\n",
      "        train_test[feats], lam = boxcox(train_test[feats])\n",
      "    features = train.columns\n",
      "    cats = [feat for feat in features if 'cat' in feat]\n",
      "    # factorize categorical features\n",
      "    for feat in cats:\n",
      "        train_test[feat] = pd.factorize(train_test[feat], sort=True)[0]\n",
      "    x_train = train_test.iloc[:ntrain, :]\n",
      "    x_test = train_test.iloc[ntrain:, :]\n",
      "    train_test_scaled, scaler = scale_data(train_test)\n",
      "    train, _ = scale_data(x_train, scaler)\n",
      "    test, _ = scale_data(x_test, scaler)\n",
      "\n",
      "    train_labels = np.log(np.array(train_loader['loss']))\n",
      "    train_ids = train_loader['id'].values.astype(np.int32)\n",
      "    test_ids = test_loader['id'].values.astype(np.int32)\n",
      "\n",
      "    return train, train_labels, test, train_ids, test_ids"
     ],
     "language": "python",
     "metadata": {},
     "outputs": [],
     "prompt_number": 2
    },
    {
     "cell_type": "code",
     "collapsed": false,
     "input": [
      "train, target, test, _, ids = load_data()"
     ],
     "language": "python",
     "metadata": {},
     "outputs": [
      {
       "output_type": "stream",
       "stream": "stdout",
       "text": [
        "\n",
        "Skew in numeric features:\n",
        "cont1     0.516420\n",
        "cont2    -0.310939\n",
        "cont3    -0.010002\n",
        "cont4     0.416093\n",
        "cont5     0.681617\n",
        "cont6     0.461211\n",
        "cont7     0.826046\n",
        "cont8     0.676629\n",
        "cont9     1.072420\n",
        "cont10    0.354998\n",
        "cont11    0.280819\n",
        "cont12    0.291990\n",
        "cont13    0.380739\n",
        "cont14    0.248672\n",
        "dtype: float64\n"
       ]
      }
     ],
     "prompt_number": 3
    },
    {
     "cell_type": "code",
     "collapsed": false,
     "input": [
      "from matplotlib import pyplot as plt\n",
      "plt.hist(target,bins = 20)\n",
      "plt.show()"
     ],
     "language": "python",
     "metadata": {},
     "outputs": [],
     "prompt_number": 4
    },
    {
     "cell_type": "code",
     "collapsed": false,
     "input": [
      "from sklearn import linear_model\n",
      "from sklearn import cross_validation\n",
      "\n",
      "X_train, X_test, y_train, y_test = cross_validation.train_test_split(train, target, test_size=0.2, random_state=0)\n",
      "reg = linear_model.Ridge(alpha = 10).fit(X_train,y_train)\n",
      "y_pred = reg.predict(X_test)\n",
      "np.sum(np.abs(np.e**y_test - np.e**y_pred))/len(y_pred)"
     ],
     "language": "python",
     "metadata": {},
     "outputs": [],
     "prompt_number": 16
    },
    {
     "cell_type": "code",
     "collapsed": false,
     "input": [
      "from sklearn import svm\n",
      "clf = svm.SVR()\n",
      "clf.fit(X_train, y_train)\n",
      "y_pred = clf.predict(X_test)\n",
      "np.sum(np.abs(np.e**y_test - np.e**y_pred))/len(y_pred)"
     ],
     "language": "python",
     "metadata": {},
     "outputs": []
    },
    {
     "cell_type": "code",
     "collapsed": false,
     "input": [
      "from sklearn.grid_search import GridSearchCV \n",
      "param_test1 = {\n",
      " 'alpha':[0.001,0.01,0.05,0.1,0.5,1,10]\n",
      "}\n",
      "gsearch1 = GridSearchCV(estimator = linear_model.Ridge(), param_grid = param_test1,n_jobs=4,iid=False, cv=5)\n",
      "gsearch1.fit(X_train,y_train)\n",
      "gsearch1.grid_scores_, gsearch1.best_score_"
     ],
     "language": "python",
     "metadata": {},
     "outputs": [
      {
       "metadata": {},
       "output_type": "pyout",
       "prompt_number": 13,
       "text": [
        "([mean: 0.48592, std: 0.00276, params: {'alpha': 0.001},\n",
        "  mean: 0.48592, std: 0.00276, params: {'alpha': 0.01},\n",
        "  mean: 0.48592, std: 0.00276, params: {'alpha': 0.05},\n",
        "  mean: 0.48592, std: 0.00276, params: {'alpha': 0.1},\n",
        "  mean: 0.48593, std: 0.00276, params: {'alpha': 0.5},\n",
        "  mean: 0.48593, std: 0.00276, params: {'alpha': 1},\n",
        "  mean: 0.48596, std: 0.00278, params: {'alpha': 10}],\n",
        " 0.4859641192546067)"
       ]
      }
     ],
     "prompt_number": 13
    },
    {
     "cell_type": "code",
     "collapsed": false,
     "input": [
      "gsearch1.best_params_"
     ],
     "language": "python",
     "metadata": {},
     "outputs": [
      {
       "metadata": {},
       "output_type": "pyout",
       "prompt_number": 15,
       "text": [
        "{'alpha': 10}"
       ]
      }
     ],
     "prompt_number": 15
    },
    {
     "cell_type": "code",
     "collapsed": false,
     "input": [],
     "language": "python",
     "metadata": {},
     "outputs": []
    }
   ],
   "metadata": {}
  }
 ]
}