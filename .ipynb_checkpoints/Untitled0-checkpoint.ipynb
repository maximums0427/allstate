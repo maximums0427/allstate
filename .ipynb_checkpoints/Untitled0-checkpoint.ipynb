{
 "metadata": {
  "name": "",
  "signature": "sha256:0d7934226668200e6212a45be04f570495afc29c5b41f86ce049276e43a086b7"
 },
 "nbformat": 3,
 "nbformat_minor": 0,
 "worksheets": []
}